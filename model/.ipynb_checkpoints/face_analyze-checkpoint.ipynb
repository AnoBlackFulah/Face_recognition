{
 "cells": [
  {
   "cell_type": "code",
   "execution_count": 29,
   "metadata": {},
   "outputs": [],
   "source": [
    "#CNN model Creation\n",
    "from tensorflow.keras import Sequential,Model\n",
    "from tensorflow.keras.layers import Permute,Flatten, Dropout, Activation,Convolution2D, MaxPooling2D\n",
    "from scipy.io import loadmat\n",
    "def convblock(cdim, nb, bits=3):\n",
    "    L = []\n",
    "    for k in range(1,bits+1):\n",
    "        convname = 'conv'+str(nb)+'_'+str(k)\n",
    "        L.append( Convolution2D(cdim, kernel_size=(3, 3), padding='same', activation='relu', name=convname) )\n",
    "    L.append( MaxPooling2D((2, 2), strides=(2, 2)) )\n",
    "    return L\n",
    " \n",
    "def vgg_face_blank():\n",
    "    withDO = True # no effect during evaluation but usefull for fine-tuning\n",
    "    if True:\n",
    "        mdl = Sequential()\n",
    "        mdl.add( Permute((1,2,3), input_shape=(224,224,3)) )\n",
    "        for l in convblock(64, 1, bits=2):\n",
    "            mdl.add(l)\n",
    "        for l in convblock(128, 2, bits=2):\n",
    "            mdl.add(l)        \n",
    "        for l in convblock(256, 3, bits=3):\n",
    "            mdl.add(l)            \n",
    "        for l in convblock(512, 4, bits=3):\n",
    "            mdl.add(l)            \n",
    "        for l in convblock(512, 5, bits=3):\n",
    "            mdl.add(l)        \n",
    "        mdl.add( Convolution2D(4096, kernel_size=(7, 7), activation='relu', name='fc6') )\n",
    "        if withDO:\n",
    "            mdl.add( Dropout(0.5) )\n",
    "        mdl.add( Convolution2D(4096, kernel_size=(1, 1), activation='relu', name='fc7') )\n",
    "        if withDO:\n",
    "            mdl.add( Dropout(0.5) )\n",
    "        mdl.add( Convolution2D(2622, kernel_size=(1, 1), activation='relu', name='fc8') )\n",
    "        mdl.add( Flatten() )\n",
    "        mdl.add( Activation('softmax') )\n",
    "        \n",
    "        return mdl\n",
    "    \n",
    "    else:\n",
    "        raise ValueError('not implemented')"
   ]
  },
  {
   "cell_type": "code",
   "execution_count": 30,
   "metadata": {},
   "outputs": [],
   "source": [
    "#weight importation\n",
    "def copy_mat_to_keras(kmodel):\n",
    "    kerasnames = [lr.name for lr in kmodel.layers]\n",
    "    prmt = (0,1,2,3)\n",
    " \n",
    "    for i in range(l.shape[1]):\n",
    "        matname = l[0,i][0,0].name[0]\n",
    "        if matname in kerasnames:\n",
    "            kindex = kerasnames.index(matname)\n",
    "            l_weights = l[0,i][0,0].weights[0,0]\n",
    "            l_bias = l[0,i][0,0].weights[0,1]\n",
    "            f_l_weights = l_weights.transpose(prmt)\n",
    "            assert (f_l_weights.shape == kmodel.layers[kindex].get_weights()[0].shape)\n",
    "            assert (l_bias.shape[1] == 1)\n",
    "            assert (l_bias[:,0].shape == kmodel.layers[kindex].get_weights()[1].shape)\n",
    "            assert (len(kmodel.layers[kindex].get_weights()) == 2)\n",
    "            kmodel.layers[kindex].set_weights([f_l_weights, l_bias[:,0]])"
   ]
  },
  {
   "cell_type": "code",
   "execution_count": 32,
   "metadata": {},
   "outputs": [],
   "source": [
    "# CNN model initialization\n",
    "facemodel = vgg_face_blank()\n",
    "# Load the pretrained weights into the model\n",
    "data = loadmat('../Data/vgg-face.mat', matlab_compatible=False, struct_as_record=False)\n",
    "l = data['layers']\n",
    "description = data['meta'][0,0].classes[0,0].description\n",
    " \n",
    "copy_mat_to_keras(facemodel)\n",
    "# Final model that can get inputs and generate a prediction as an output\n",
    "featuremodel = Model( inputs = facemodel.layers[0].input, outputs = facemodel.layers[-2].output )"
   ]
  },
  {
   "cell_type": "code",
   "execution_count": 35,
   "metadata": {},
   "outputs": [],
   "source": [
    "#prediction\n",
    "# featuremodel.predict(vector_image)[0,:]"
   ]
  },
  {
   "cell_type": "code",
   "execution_count": null,
   "metadata": {},
   "outputs": [],
   "source": []
  }
 ],
 "metadata": {
  "kernelspec": {
   "display_name": "Python 3",
   "language": "python",
   "name": "python3"
  },
  "language_info": {
   "codemirror_mode": {
    "name": "ipython",
    "version": 3
   },
   "file_extension": ".py",
   "mimetype": "text/x-python",
   "name": "python",
   "nbconvert_exporter": "python",
   "pygments_lexer": "ipython3",
   "version": "3.6.8"
  }
 },
 "nbformat": 4,
 "nbformat_minor": 2
}
