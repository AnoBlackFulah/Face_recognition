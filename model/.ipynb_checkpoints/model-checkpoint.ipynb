{
 "cells": [
  {
   "cell_type": "code",
   "execution_count": 5,
   "metadata": {},
   "outputs": [],
   "source": [
    "import numpy as np\n",
    "import cv2\n",
    "from scipy.spatial.distance import cosine as dcos\n",
    "from scipy.io import loadmat\n",
    "from tensorflow.keras.models import Sequential, Model\n",
    "from tensorflow.keras.layers import Flatten, Dropout, Activation, Permute\n",
    "from tensorflow.keras.layers import Convolution2D, MaxPooling2D\n",
    "from tensorflow.keras import backend as K\n",
    "K.set_image_data_format( 'channels_last' )\n",
    "import os\n",
    "from multiprocessing.dummy import Pool"
   ]
  },
  {
   "cell_type": "code",
   "execution_count": 6,
   "metadata": {},
   "outputs": [],
   "source": [
    "def auto_crop_image(image):\n",
    "    if image is not None:\n",
    "        im = image.copy()\n",
    "        # Load HaarCascade from the file with OpenCV\n",
    "        faceCascade = cv2.CascadeClassifier(\"haarcascade_frontalface_default.xml\")\n",
    "        \n",
    "        # Read the image\n",
    "        gray = cv2.cvtColor(image, cv2.COLOR_BGR2GRAY)\n",
    "        \n",
    "        # Detect faces in the image\n",
    "        faces = faceCascade.detectMultiScale(\n",
    "            gray,\n",
    "            scaleFactor=1.1,\n",
    "            minNeighbors=5,\n",
    "            minSize=(30, 30)\n",
    "        )\n",
    "        faces = faceCascade.detectMultiScale(gray, 1.2, 5)\n",
    "        if len(faces) > 0:\n",
    "            # Draw a rectangle around the faces\n",
    "            for (x, y, w, h) in faces:\n",
    "                cv2.rectangle(image, (x, y), (x+w, y+h), (0, 255, 0), 2)        \n",
    "            (x, y, w, h) = faces[0]\n",
    "            center_x = x+w/2\n",
    "            center_y = y+h/2\n",
    "            height, width, channels = im.shape\n",
    "            b_dim = min(max(w,h)*1.2,width, height)\n",
    "            box = [center_x-b_dim/2, center_y-b_dim/2, center_x+b_dim/2, center_y+b_dim/2]\n",
    "            box = [int(x) for x in box]\n",
    "            # Crop Image\n",
    "            if box[0] >= 0 and box[1] >= 0 and box[2] <= width and box[3] <= height:\n",
    "                crpim = im[box[1]:box[3],box[0]:box[2]]\n",
    "                crpim = cv2.resize(crpim, (224,224), interpolation = cv2.INTER_AREA)\n",
    "                print(\"Found {0} faces!\".format(len(faces)))\n",
    "                return crpim, image, (x, y, w, h)\n",
    "    return None, image, (0,0,0,0)"
   ]
  },
  {
   "cell_type": "code",
   "execution_count": null,
   "metadata": {},
   "outputs": [],
   "source": []
  }
 ],
 "metadata": {
  "kernelspec": {
   "display_name": "Python 3",
   "language": "python",
   "name": "python3"
  },
  "language_info": {
   "codemirror_mode": {
    "name": "ipython",
    "version": 3
   },
   "file_extension": ".py",
   "mimetype": "text/x-python",
   "name": "python",
   "nbconvert_exporter": "python",
   "pygments_lexer": "ipython3",
   "version": "3.6.8"
  }
 },
 "nbformat": 4,
 "nbformat_minor": 2
}
