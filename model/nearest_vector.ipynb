{
 "cells": [
  {
   "cell_type": "code",
   "execution_count": 1,
   "metadata": {},
   "outputs": [],
   "source": [
    "#generate Database\n",
    "def generate_database(folder_img = \"images\"):\n",
    "    database = {}\n",
    "    for the_file in os.listdir(folder_img):\n",
    "        file_path = os.path.join(folder_img, the_file)\n",
    "        try:\n",
    "            if os.path.isfile(file_path):\n",
    "               name = the_file.split(\".\")[0]\n",
    "               img = cv2.imread(file_path)\n",
    "               crpim, srcimg, (x, y, w, h) = auto_crop_image(img)\n",
    "               vector_image = crpim[None,...]\n",
    "               database[name] = featuremodel.predict(vector_image)[0,:]\n",
    "        except Exception as e:\n",
    "            print(e)\n",
    "    return database"
   ]
  },
  {
   "cell_type": "code",
   "execution_count": null,
   "metadata": {},
   "outputs": [],
   "source": [
    "# db = generate_database()"
   ]
  },
  {
   "cell_type": "code",
   "execution_count": 2,
   "metadata": {},
   "outputs": [],
   "source": [
    "def find_closest(img, database, min_detection=2.5):\n",
    "    imarr1 = np.asarray(img)\n",
    "    imarr1 = imarr1[None,...]\n",
    "    #Prediction\n",
    "    fvec1 = featuremodel.predict(imarr1)[0,:]\n",
    "    #Closest person in DB\n",
    "    dmin = 0.0\n",
    "    umin = \"\"\n",
    "    for key, value in database.items():\n",
    "        fvec2 = value\n",
    "        dcos_1_2 = dcos(fvec1, fvec2)\n",
    "        if umin == \"\":\n",
    "            dmin = dcos_1_2\n",
    "            umin = key\n",
    "        elif dcos_1_2 < dmin:\n",
    "            dmin = dcos_1_2\n",
    "            umin = key\n",
    "    if dmin > min_detection:\n",
    "        umin = \"\"\n",
    "    return umin, dmin"
   ]
  },
  {
   "cell_type": "code",
   "execution_count": null,
   "metadata": {},
   "outputs": [],
   "source": [
    "#start video\n",
    "# cv2.VideoCapture(0)"
   ]
  }
 ],
 "metadata": {
  "kernelspec": {
   "display_name": "Python 3",
   "language": "python",
   "name": "python3"
  },
  "language_info": {
   "codemirror_mode": {
    "name": "ipython",
    "version": 3
   },
   "file_extension": ".py",
   "mimetype": "text/x-python",
   "name": "python",
   "nbconvert_exporter": "python",
   "pygments_lexer": "ipython3",
   "version": "3.6.8"
  }
 },
 "nbformat": 4,
 "nbformat_minor": 2
}
