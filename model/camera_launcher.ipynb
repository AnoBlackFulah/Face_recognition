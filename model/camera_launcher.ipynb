{
 "cells": [
  {
   "cell_type": "code",
   "execution_count": 1,
   "metadata": {},
   "outputs": [],
   "source": [
    "def webcam_face_recognizer(database):\n",
    "    cv2.namedWindow(\"preview\")\n",
    "    vc = cv2.VideoCapture(0)\n",
    "    ready_to_detect_identity = True\n",
    "    name = \"\"\n",
    "    \n",
    "    while vc.isOpened():\n",
    "        _, frame = vc.read()\n",
    "        img = frame\n",
    "        # Image analysis (start here with img loaded with your image)\n",
    "        # We do not want to detect a new identity while the program is in the process of identifying another person\n",
    "        imgcrop,img, (x, y, w, h) = auto_crop_image(img)\n",
    "        \n",
    "        if ready_to_detect_identity and imgcrop is not None:\n",
    "            ### Stop analysis while identifying\n",
    "            ready_to_detect_identity = False\n",
    "            pool = Pool(processes=1)\n",
    "            name, ready_to_detect_identity = pool.apply_async(recognize_image, [imgcrop, database]).get()\n",
    "            pool.close()\n",
    "            cv2.putText(img = frame, text = name, org = (int(x),int(y+h+20)), fontFace = cv2.FONT_HERSHEY_SIMPLEX, thickness= 2, fontScale = 1, color = (0, 255, 0))\n",
    "        key = cv2.waitKey(100)\n",
    "        cv2.imshow(\"preview\", img)\n",
    " \n",
    "        if key == 27: # exit on ESC\n",
    "            break\n",
    "    cv2.destroyWindow(\"preview\")"
   ]
  },
  {
   "cell_type": "code",
   "execution_count": null,
   "metadata": {},
   "outputs": [],
   "source": [
    "#webcam launcher\n",
    "# webcam_face_recognizer(db)"
   ]
  }
 ],
 "metadata": {
  "kernelspec": {
   "display_name": "Python 3",
   "language": "python",
   "name": "python3"
  },
  "language_info": {
   "codemirror_mode": {
    "name": "ipython",
    "version": 3
   },
   "file_extension": ".py",
   "mimetype": "text/x-python",
   "name": "python",
   "nbconvert_exporter": "python",
   "pygments_lexer": "ipython3",
   "version": "3.6.8"
  }
 },
 "nbformat": 4,
 "nbformat_minor": 2
}
